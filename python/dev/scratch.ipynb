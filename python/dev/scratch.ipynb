{
 "cells": [
  {
   "cell_type": "code",
   "execution_count": 2,
   "metadata": {},
   "outputs": [],
   "source": [
    "import torch "
   ]
  },
  {
   "cell_type": "code",
   "execution_count": 6,
   "metadata": {},
   "outputs": [
    {
     "data": {
      "text/plain": [
       "tensor([[ 0.9248, -1.3997,  1.1693,  0.3116],\n",
       "        [-0.0704,  2.0453,  0.0448,  0.9771],\n",
       "        [ 1.0255, -0.3370, -0.8706, -1.0842],\n",
       "        [ 0.8954, -1.0748,  1.2585,  1.2315]])"
      ]
     },
     "execution_count": 6,
     "metadata": {},
     "output_type": "execute_result"
    }
   ],
   "source": [
    "t = torch.randn(4, 4)\n",
    "t"
   ]
  },
  {
   "cell_type": "code",
   "execution_count": 14,
   "metadata": {},
   "outputs": [
    {
     "name": "stdout",
     "output_type": "stream",
     "text": [
      "tensor([1.1693, 2.0453, 1.0255, 1.2585])\n"
     ]
    },
    {
     "data": {
      "text/plain": [
       "tensor([[-0.2445, -2.5690,  0.0000, -0.8577],\n",
       "        [-2.1157,  0.0000, -2.0005, -1.0682],\n",
       "        [ 0.0000, -1.3625, -1.8962, -2.1097],\n",
       "        [-0.3631, -2.3333,  0.0000, -0.0270]])"
      ]
     },
     "execution_count": 14,
     "metadata": {},
     "output_type": "execute_result"
    }
   ],
   "source": [
    "x_max = t.max(1)[0]\n",
    "print(x_max)\n",
    "t - x_max[:, None]"
   ]
  }
 ],
 "metadata": {
  "kernelspec": {
   "display_name": "venv",
   "language": "python",
   "name": "python3"
  },
  "language_info": {
   "codemirror_mode": {
    "name": "ipython",
    "version": 3
   },
   "file_extension": ".py",
   "mimetype": "text/x-python",
   "name": "python",
   "nbconvert_exporter": "python",
   "pygments_lexer": "ipython3",
   "version": "3.11.6"
  },
  "orig_nbformat": 4
 },
 "nbformat": 4,
 "nbformat_minor": 2
}
